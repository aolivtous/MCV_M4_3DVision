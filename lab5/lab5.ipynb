{
 "cells": [
  {
   "cell_type": "code",
   "execution_count": null,
   "id": "daa4daf0-04ce-4fe8-8780-46e09d239f06",
   "metadata": {},
   "outputs": [],
   "source": [
    "import pycolmap\n",
    "from pathlib import Path\n",
    "import cv2\n"
   ]
  },
  {
   "cell_type": "markdown",
   "id": "19c31494-3050-4951-aed1-b463f3fba821",
   "metadata": {},
   "source": [
    "# 2. Analyze reconstructions using python\n",
    "## 2.1. Install pycolmap, and run the notebook, using the Gerrard Hall reconstruction\n",
    "#### <span style='color:Green'> - Add the path to your reconstruction  </span>"
   ]
  },
  {
   "cell_type": "code",
   "execution_count": null,
   "id": "41796fd2-2304-487f-a74c-3f1a51ad83f6",
   "metadata": {},
   "outputs": [],
   "source": [
    "# Add your path\n",
    "path_reconstruction = \"/media/marc/SSD/Colmap/pycolmap_gerrard_hall\""
   ]
  },
  {
   "cell_type": "markdown",
   "id": "2a701bb3-945a-434c-880c-849dad97a97d",
   "metadata": {},
   "source": [
    "#### Load an existing reconstruction and print its contents"
   ]
  },
  {
   "cell_type": "code",
   "execution_count": null,
   "id": "edeb6e03-c056-44f8-b83d-b4c1893c4ffd",
   "metadata": {},
   "outputs": [],
   "source": [
    "reconstruction = pycolmap.Reconstruction(path_reconstruction)\n",
    "print(reconstruction.summary())\n"
   ]
  },
  {
   "cell_type": "code",
   "execution_count": null,
   "id": "d3ee7adb-a8ac-4f3d-b0dd-1a53fa01b57d",
   "metadata": {},
   "outputs": [],
   "source": [
    "print(\"Images:\")\n",
    "for image_id, image in list(reconstruction.images.items())[:5]:\n",
    "    print(image_id, image)\n",
    "    \n",
    "print(\"\\n3D points:\")\n",
    "for point3D_id, point3D in list(reconstruction.points3D.items())[:5]:\n",
    "    print(point3D_id, point3D)\n",
    "\n",
    "print(\"\\nCameras:\")\n",
    "for camera_id, camera in reconstruction.cameras.items():\n",
    "    print(camera_id, camera)\n"
   ]
  },
  {
   "cell_type": "markdown",
   "id": "a12c0675-6841-4519-b79f-cc2b811b94fd",
   "metadata": {},
   "source": [
    "#### Try projecting 3D points to the images"
   ]
  },
  {
   "cell_type": "code",
   "execution_count": null,
   "id": "549e0058-0fee-4cbb-bc60-44685d3fe6ad",
   "metadata": {},
   "outputs": [],
   "source": [
    "# You can also try with different values\n",
    "image_id = 1\n",
    "point_id = 1"
   ]
  },
  {
   "cell_type": "code",
   "execution_count": null,
   "id": "bac41cfc-544f-4d62-b60a-bad2938abbb0",
   "metadata": {},
   "outputs": [],
   "source": [
    "uv = camera.world_to_image(reconstruction.images[image_id].project(reconstruction.points3D[point_id].xyz))\n",
    "print(f\"u, v: {uv}\")\n",
    "image_path = path_reconstruction+'/images/'+reconstruction.images[1].name\n",
    "im = cv2.imread(image_path)\n",
    "print(f\"Image size: {im.shape}\")"
   ]
  },
  {
   "cell_type": "markdown",
   "id": "43ec9ede-8fa3-45a4-a70e-2ec43b45ec49",
   "metadata": {},
   "source": [
    "#### Do the points always project to the image? Why?"
   ]
  },
  {
   "cell_type": "markdown",
   "id": "dcf25493-68a5-4fbd-a045-2fa356d9dc1f",
   "metadata": {},
   "source": [
    "#### Can multiple 3D points project to the same pixel in the image? Why?"
   ]
  },
  {
   "cell_type": "markdown",
   "id": "b28abaff-4900-405f-b5df-111e186bb0d8",
   "metadata": {},
   "source": [
    "## 2.2 Plot the 3D points coloured according to the track length and error."
   ]
  },
  {
   "cell_type": "markdown",
   "id": "6803fb41-cb01-43c2-9853-9f4458640a75",
   "metadata": {},
   "source": [
    "#### <span style='color:Green'> - Plot the 3D points coloured according to the **track length**. </span> What is this parameter? Can you extract any conclusions from the visualization? "
   ]
  },
  {
   "cell_type": "code",
   "execution_count": null,
   "id": "b6653eb8-56e7-4d97-8c84-02ef1377a1ee",
   "metadata": {},
   "outputs": [],
   "source": [
    "### TO DO 2.2\n",
    "def visualize_3d_points_track_length(reconstruction):\n",
    "    raise NotImplementedError(\"This function must be implemented by the students\")"
   ]
  },
  {
   "cell_type": "code",
   "execution_count": null,
   "id": "f032dca5-083f-47f4-9e87-6e9bc9477915",
   "metadata": {},
   "outputs": [],
   "source": [
    "visualize_3d_points_track_length(reconstruction)"
   ]
  },
  {
   "cell_type": "markdown",
   "id": "a9ba4033-e370-45e0-9dcd-2964d3c5763a",
   "metadata": {},
   "source": [
    "#### <span style='color:Green'> - Plot the 3D points coloured according to the **error**. </span> - What is this parameter? Can you extract any conclusions from the visualization?"
   ]
  },
  {
   "cell_type": "code",
   "execution_count": null,
   "id": "cfb29f94-1864-4e21-b534-7eb681dd9057",
   "metadata": {},
   "outputs": [],
   "source": [
    "### TO DO 2.2\n",
    "def visualize_3d_points_error(reconstruction):\n",
    "    raise NotImplementedError(\"This function must be implemented by the students\")"
   ]
  },
  {
   "cell_type": "code",
   "execution_count": null,
   "id": "bac3c976-ec76-4dba-b871-75de533cafaa",
   "metadata": {},
   "outputs": [],
   "source": [
    "visualize_3d_points_error(reconstruction)"
   ]
  },
  {
   "cell_type": "markdown",
   "id": "dbe177d5-893b-41b4-aa1c-6d6fb06b54b7",
   "metadata": {},
   "source": [
    "## 2.3 Plot the 3D points coloured according to the RGB color from the images."
   ]
  },
  {
   "cell_type": "markdown",
   "id": "d4e118fa-4734-480b-ac87-016ce4648438",
   "metadata": {},
   "source": [
    "#### <span style='color:Green'> -  Plot the 3D points coloured according to the **RGB color from the images**. </span> Getting for each point the projection to any image and retrieving the color from there will not work. "
   ]
  },
  {
   "cell_type": "code",
   "execution_count": null,
   "id": "1888156a-c5f5-4695-a75b-2883f1a7c8b5",
   "metadata": {},
   "outputs": [],
   "source": [
    "### TO DO 2.3\n",
    "def visualize_3d_points_rgb(reconstruction):\n",
    "    raise NotImplementedError(\"This function must be implemented by the students\")"
   ]
  },
  {
   "cell_type": "code",
   "execution_count": null,
   "id": "9b17f42d-55c5-46d9-963c-0706984fecbd",
   "metadata": {},
   "outputs": [],
   "source": [
    "visualize_3d_points_rgb(reconstruction)"
   ]
  },
  {
   "cell_type": "markdown",
   "id": "1ab06d62-e966-439e-87d7-5d7ba973bca1",
   "metadata": {},
   "source": [
    "## 2.4 Visualize the keypoints and matches between the two images used in lab 4 using Colmap, how it compares to the results from lab 4?\n",
    "#### <span style='color:Green'> You can use the GUI to get the keypoints and matches and then visualize it here, following the same style as in lab 4 to get comparable results. You can also try to use pycolmap to get the keypoints and matches directly using python. </span>"
   ]
  },
  {
   "cell_type": "code",
   "execution_count": null,
   "id": "f50cc03b-672c-491c-bd61-e40bcc757f43",
   "metadata": {},
   "outputs": [],
   "source": [
    "### TO DO 2.4"
   ]
  },
  {
   "cell_type": "markdown",
   "id": "244a4a42-5c40-4983-af8a-2c0ef286ce5d",
   "metadata": {},
   "source": [
    "## 2.5 Triangulate and visualize the 3D points using the two images used in lab 4 using Colmap, how it compares to the results from lab 4? \n",
    "#### <span style='color:Green'> - Use the triangulation from lab 4 to the get the 3D points and visualize them following the same style. </span>"
   ]
  },
  {
   "cell_type": "code",
   "execution_count": null,
   "id": "5abc66ad-ab36-4192-b93b-8523adfb3620",
   "metadata": {},
   "outputs": [],
   "source": [
    "### TO DO 2.5"
   ]
  },
  {
   "cell_type": "markdown",
   "id": "10eacbca-842d-4d9e-85bd-efc35c5dd15a",
   "metadata": {},
   "source": [
    "## 2.6 Visualize the sparse reconstruction using the two images from lab 4, and the complete dataset. Comment on the differences between techniques and number of images used.\n",
    "#### <span style='color:Green'> - Use the reconstruction from Colmap to the get the 3D points and visualize them following the same style, using two images and the complete dataset. </span>"
   ]
  },
  {
   "cell_type": "code",
   "execution_count": null,
   "id": "4b9504a3-dcbf-4b2b-9ff6-71c5a4584742",
   "metadata": {},
   "outputs": [],
   "source": [
    "### TO DO 2.6"
   ]
  }
 ],
 "metadata": {
  "kernelspec": {
   "display_name": "Python 3 (ipykernel)",
   "language": "python",
   "name": "python3"
  },
  "language_info": {
   "codemirror_mode": {
    "name": "ipython",
    "version": 3
   },
   "file_extension": ".py",
   "mimetype": "text/x-python",
   "name": "python",
   "nbconvert_exporter": "python",
   "pygments_lexer": "ipython3",
   "version": "3.8.10"
  }
 },
 "nbformat": 4,
 "nbformat_minor": 5
}
